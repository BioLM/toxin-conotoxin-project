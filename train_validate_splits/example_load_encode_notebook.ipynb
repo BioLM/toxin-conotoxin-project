{
 "cells": [
  {
   "cell_type": "code",
   "execution_count": null,
   "id": "bdd992ba-667c-4339-b125-8c1afc1be71c",
   "metadata": {},
   "outputs": [],
   "source": [
    "from datasets import Dataset, load_dataset\n",
    "from transformers import AutoTokenizer"
   ]
  },
  {
   "cell_type": "code",
   "execution_count": null,
   "id": "011fdf41-740e-4da0-b34a-af354df1dcec",
   "metadata": {},
   "outputs": [],
   "source": [
    "#esm2 models tokenize the same the checkpoint specifies the parameters for the model\n",
    "model_checkpoint = \"facebook/esm2_t6_8M_UR50D\"\n",
    "tokenizer = AutoTokenizer.from_pretrained(model_checkpoint,use_fast=True)"
   ]
  },
  {
   "cell_type": "code",
   "execution_count": null,
   "id": "22b520c3-1e20-4a0d-8caa-8d821c05db24",
   "metadata": {},
   "outputs": [],
   "source": [
    "def tokenization(entry):\n",
    "\n",
    "    return tokenizer(entry[\"sequence\"])\n",
    "\n",
    "def tokenize(dataset):\n",
    "  dataset = dataset.map(tokenization, batched=True)\n",
    "  return dataset "
   ]
  },
  {
   "cell_type": "code",
   "execution_count": null,
   "id": "74f70248-eef5-4feb-bd77-a1ffa64c303d",
   "metadata": {},
   "outputs": [],
   "source": [
    "dataset = dataset=load_dataset('json', data_files={'train':data_dir+\"train-\"+out_name+\".json\",'validate':data_dir+\"validate-\"+out_name+\".json\"},field='data')\n",
    "dataset=tokenize(dataset)"
   ]
  },
  {
   "cell_type": "code",
   "execution_count": null,
   "id": "10652c00-e437-4a28-96f3-f54354d2f14f",
   "metadata": {},
   "outputs": [],
   "source": [
    "train, validate=dataset['train'].shuffle(), dataset['validate'].shuffle()"
   ]
  }
 ],
 "metadata": {
  "kernelspec": {
   "display_name": "Python [conda env:biolm] *",
   "language": "python",
   "name": "conda-env-biolm-py"
  },
  "language_info": {
   "codemirror_mode": {
    "name": "ipython",
    "version": 3
   },
   "file_extension": ".py",
   "mimetype": "text/x-python",
   "name": "python",
   "nbconvert_exporter": "python",
   "pygments_lexer": "ipython3",
   "version": "3.10.9"
  }
 },
 "nbformat": 4,
 "nbformat_minor": 5
}
