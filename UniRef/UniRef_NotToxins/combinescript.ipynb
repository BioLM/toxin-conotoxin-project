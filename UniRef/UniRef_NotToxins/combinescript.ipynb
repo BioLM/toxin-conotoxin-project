{
 "cells": [
  {
   "cell_type": "code",
   "execution_count": 5,
   "id": "3deeffce-8d11-417e-a67b-71fb7c4df5bb",
   "metadata": {},
   "outputs": [
    {
     "name": "stderr",
     "output_type": "stream",
     "text": [
      "\n",
      "KeyboardInterrupt\n",
      "\n"
     ]
    }
   ],
   "source": [
    "#example script to combine the batched files into one tsv file or dataframe\n",
    "import pandas as pd\n",
    "#change as needed\n",
    "#example batch number and file stem below\n",
    "filestem='ntref50-4to500'\n",
    "savepath='/home/chance/biolmtoxin/toxin-conotoxin-project/UniRef/UniRef_NotToxins/notvirus/50level/combined/'\n",
    "loadpath='/home/chance/biolmtoxin/toxin-conotoxin-project/UniRef/UniRef_NotToxins/notvirus/50level/batched/'\n",
    "#refer to the final seq numbers file or below(round down to 500 for iterating) or the number of files in the directory*500 \n",
    "#uniprot not virus not toxin final batch number = 183008790\n",
    "#uniref not virus not toxin 50 level final seq number = 47018876\n",
    "#uniref not virus not toxin 90 level final seq number = 126464944\n",
    "#uniref not virus not toxin 100 level final seq number = 253053104\n",
    "batch=int(47018876/500)*500\n",
    "#firstbatch is 500 entries rest are 499 except last which is fractional\n",
    "df0=pd.read_csv(loadpath+filestem+'#0.tsv',sep='\\t')\n",
    "ntref50=pd.DataFrame(index=range(500),columns=df0.columns)\n",
    "ntref50.iloc[:500]=df0\n",
    "for i in range (1,int(batch/500)):\n",
    "    df=pd.read_csv(loadpath+filestem+'#'+str((i*500))+'.tsv',sep='\\t')\n",
    "    ntref50.loc[ntref50.index[-1] + len(df)] = df\n",
    "ntref50.to_csv(savepath+filestem+'.csv')"
   ]
  },
  {
   "cell_type": "code",
   "execution_count": null,
   "id": "7723b841-d347-4488-986a-9eb3a3280a40",
   "metadata": {},
   "outputs": [],
   "source": []
  }
 ],
 "metadata": {
  "kernelspec": {
   "display_name": "Python [conda env:biolm] *",
   "language": "python",
   "name": "conda-env-biolm-py"
  },
  "language_info": {
   "codemirror_mode": {
    "name": "ipython",
    "version": 3
   },
   "file_extension": ".py",
   "mimetype": "text/x-python",
   "name": "python",
   "nbconvert_exporter": "python",
   "pygments_lexer": "ipython3",
   "version": "3.10.9"
  }
 },
 "nbformat": 4,
 "nbformat_minor": 5
}
