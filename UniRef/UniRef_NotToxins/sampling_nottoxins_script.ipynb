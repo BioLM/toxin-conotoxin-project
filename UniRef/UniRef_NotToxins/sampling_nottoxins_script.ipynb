{
 "cells": [
  {
   "cell_type": "code",
   "execution_count": 2,
   "id": "477c8777-7fad-4089-8299-e2d92b8a69f4",
   "metadata": {
    "tags": []
   },
   "outputs": [],
   "source": [
    "from sklearn.utils.random import sample_without_replacement\n",
    "import pandas as pd"
   ]
  },
  {
   "cell_type": "code",
   "execution_count": 3,
   "id": "b6da41e1-a0b7-441c-a935-f4c54ef3066d",
   "metadata": {},
   "outputs": [],
   "source": [
    "toxincount=145203\n",
    "nottoxincount=47018876"
   ]
  },
  {
   "cell_type": "code",
   "execution_count": 8,
   "id": "8587597c-fcce-4c57-8b2b-d1dedd5d3498",
   "metadata": {},
   "outputs": [],
   "source": [
    "cl=['Cluster ID',\n",
    " 'Cluster Name',\n",
    " 'Types',\n",
    " 'Size',\n",
    " 'Organisms',\n",
    " 'Length',\n",
    " 'Identity',\n",
    " 'Reference sequence']\n",
    "filestem='ntref50-4to500#'\n",
    "loadpath='/home/chance/biolmtoxin/toxin-conotoxin-project/UniRef/UniRef_NotToxins/notvirus/50level/batched/'\n",
    "def sample_from_batch(samplelist,loadpath,filestem):\n",
    "    seq_list=[]\n",
    "    for i in samplelist:\n",
    "        if (i>500):\n",
    "            r=i%500\n",
    "            n=str(i-r-500)\n",
    "            df=pd.read_csv(loadpath+filestem+n+\".tsv\", skiprows=r-1, nrows=1,header=None,sep='\\t')\n",
    "            df.columns=cl\n",
    "            seq_list.append(df['Reference sequence'][0])\n",
    "        else:\n",
    "            r=i\n",
    "            n=str(0)\n",
    "            df=pd.read_csv(loadpath+filestem+n+\".tsv\", skiprows=r-1, nrows=1,sep='\\t')\n",
    "            df.columns=cl\n",
    "            seq_list.append(df['Reference sequence'][0])\n",
    "    return seq_list"
   ]
  },
  {
   "cell_type": "code",
   "execution_count": 5,
   "id": "6afa3167-75d8-469e-a573-3b15c412668c",
   "metadata": {
    "tags": []
   },
   "outputs": [],
   "source": [
    "tref50=pd.read_csv('/home/chance/biolmtoxin/toxin-conotoxin-project/UniRef/UniRef_Toxins/notvirus/uncompressed/tref50_nv_4to500.tsv',sep='\\t')"
   ]
  },
  {
   "cell_type": "code",
   "execution_count": 6,
   "id": "b9e3bdc3-f4ff-4bc2-b2fe-ed998b369fac",
   "metadata": {
    "tags": []
   },
   "outputs": [],
   "source": [
    "tref50sequences=tref50['Reference sequence'].tolist()"
   ]
  },
  {
   "cell_type": "code",
   "execution_count": null,
   "id": "d6894d99-babc-4991-9df3-b2441a41e831",
   "metadata": {
    "tags": []
   },
   "outputs": [],
   "source": [
    "onetooneseqlist=[]\n",
    "twotooneseqlist=[]\n",
    "fivetooneseqlist=[]\n",
    "tentooneseqlist=[]\n",
    "onetoonenumberlist=[]\n",
    "twotoonenumberlist=[]\n",
    "fivetoonenumberlist=[]\n",
    "tentoonenumberlist=[]\n",
    "for i in range(4):\n",
    "    onetoone= sample_without_replacement(nottoxincount,toxincount)\n",
    "    twotoone=sample_without_replacement(nottoxincount,2*toxincount)\n",
    "    fivetoone=sample_without_replacement(nottoxincount,5*toxincount)\n",
    "    tentoone=sample_without_replacement(nottoxincount,10*toxincount)\n",
    "    \n",
    "    onetooneseqlist.append(sample_from_batch(onetoone,loadpath,filestem))\n",
    "    twotooneseqlist.append(sample_from_batch(twotoone,loadpath,filestem))\n",
    "    fivetooneseqlist.append(sample_from_batch(fivetoone,loadpath,filestem))\n",
    "    tentooneseqlist.append(sample_from_batch(tentoone,loadpath,filestem))\n",
    "    \n",
    "    onetoonenumberlist.append(onetoone.tolist())\n",
    "    twotoonenumberlist.append(onetoone.tolist())\n",
    "    fivetoonenumberlist.append(onetoone.tolist())\n",
    "    tentoonenumberlist.append(onetoone.tolist())"
   ]
  },
  {
   "cell_type": "code",
   "execution_count": null,
   "id": "2442cea1-29a6-47b4-aa2a-c19fe76d284d",
   "metadata": {
    "tags": []
   },
   "outputs": [],
   "source": [
    "pd.DataFrame(onetooneseqlist,columns=['trial1','trial2','trial3','trial4','trial5']).to_csv('/home/chance/biolmtoxin/toxin-conotoxin-project/UniRef/UniRef_NotToxins/notvirus/50level/sampled/ntref50-1:1-seq.csv')\n",
    "pd.DataFrame(twotooneseqlist,columns=['trial1','trial2','trial3','trial4','trial5']).to_csv('/home/chance/biolmtoxin/toxin-conotoxin-project/UniRef/UniRef_NotToxins/notvirus/50level/sampled/ntref50-2:1-seq.csv')\n",
    "pd.DataFrame(fivetooneseqlist,columns=['trial1','trial2','trial3','trial4','trial5']).to_csv('/home/chance/biolmtoxin/toxin-conotoxin-project/UniRef/UniRef_NotToxins/notvirus/50level/sampled/ntref50-5:1-seq.csv')\n",
    "pd.DataFrame(tentooneseqlist,columns=['trial1','trial2','trial3','trial4','trial5']).to_csv('/home/chance/biolmtoxin/toxin-conotoxin-project/UniRef/UniRef_NotToxins/notvirus/50level/sampled/ntref50-10:1-seq.csv')\n",
    "\n",
    "pd.DataFrame(onetoonenumberlist,columns=['trial1','trial2','trial3','trial4','trial5']).to_csv('/home/chance/biolmtoxin/toxin-conotoxin-project/UniRef/UniRef_NotToxins/notvirus/50level/sampled/ntref50-1:1-indices.csv')\n",
    "pd.DataFrame(twotoonenumberlist,columns=['trial1','trial2','trial3','trial4','trial5']).to_csv('/home/chance/biolmtoxin/toxin-conotoxin-project/UniRef/UniRef_NotToxins/notvirus/50level/sampled/ntref50-2:1-indices.csv')\n",
    "pd.DataFrame(fivetoonenumberlist,columns=['trial1','trial2','trial3','trial4','trial5']).to_csv('/home/chance/biolmtoxin/toxin-conotoxin-project/UniRef/UniRef_NotToxins/notvirus/50level/sampled/ntref50-5:1-indices.csv')\n",
    "pd.DataFrame(tentoonenumberlist,columns=['trial1','trial2','trial3','trial4','trial5']).to_csv('/home/chance/biolmtoxin/toxin-conotoxin-project/UniRef/UniRef_NotToxins/notvirus/50level/sampled/ntref50-10:1-indices.csv')"
   ]
  },
  {
   "cell_type": "code",
   "execution_count": null,
   "id": "0e55d0f8-4bf1-420e-bbc2-d4a10dae2837",
   "metadata": {},
   "outputs": [],
   "source": []
  }
 ],
 "metadata": {
  "kernelspec": {
   "display_name": "Python [conda env:biolm] *",
   "language": "python",
   "name": "conda-env-biolm-py"
  },
  "language_info": {
   "codemirror_mode": {
    "name": "ipython",
    "version": 3
   },
   "file_extension": ".py",
   "mimetype": "text/x-python",
   "name": "python",
   "nbconvert_exporter": "python",
   "pygments_lexer": "ipython3",
   "version": "3.10.9"
  }
 },
 "nbformat": 4,
 "nbformat_minor": 5
}
